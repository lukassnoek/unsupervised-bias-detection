{
 "cells": [
  {
   "cell_type": "markdown",
   "metadata": {},
   "source": [
    "# Analysis & visualization of results"
   ]
  },
  {
   "cell_type": "code",
   "execution_count": 14,
   "metadata": {},
   "outputs": [],
   "source": [
    "import pandas as pd\n",
    "import seaborn as sns\n",
    "import statsmodels.formula.api as smf"
   ]
  },
  {
   "cell_type": "markdown",
   "metadata": {},
   "source": [
    "Below, we read in the results from applying HBAC on random noise data (from a standard normal distribution) and then computing the difference between each cluster and the other clusters."
   ]
  },
  {
   "cell_type": "code",
   "execution_count": 15,
   "metadata": {},
   "outputs": [
    {
     "data": {
      "text/html": [
       "<div>\n",
       "<style scoped>\n",
       "    .dataframe tbody tr th:only-of-type {\n",
       "        vertical-align: middle;\n",
       "    }\n",
       "\n",
       "    .dataframe tbody tr th {\n",
       "        vertical-align: top;\n",
       "    }\n",
       "\n",
       "    .dataframe thead th {\n",
       "        text-align: right;\n",
       "    }\n",
       "</style>\n",
       "<table border=\"1\" class=\"dataframe\">\n",
       "  <thead>\n",
       "    <tr style=\"text-align: right;\">\n",
       "      <th></th>\n",
       "      <th>iter</th>\n",
       "      <th>cluster_nr</th>\n",
       "      <th>p_clust</th>\n",
       "      <th>diff_clust</th>\n",
       "      <th>size_clust</th>\n",
       "      <th>method</th>\n",
       "      <th>N</th>\n",
       "      <th>K</th>\n",
       "      <th>target_col</th>\n",
       "      <th>bonf_correct</th>\n",
       "    </tr>\n",
       "  </thead>\n",
       "  <tbody>\n",
       "    <tr>\n",
       "      <th>0</th>\n",
       "      <td>0</td>\n",
       "      <td>0</td>\n",
       "      <td>0.456115</td>\n",
       "      <td>-0.378788</td>\n",
       "      <td>6</td>\n",
       "      <td>hbac</td>\n",
       "      <td>50</td>\n",
       "      <td>1</td>\n",
       "      <td>y</td>\n",
       "      <td>True</td>\n",
       "    </tr>\n",
       "    <tr>\n",
       "      <th>1</th>\n",
       "      <td>0</td>\n",
       "      <td>1</td>\n",
       "      <td>2.214504</td>\n",
       "      <td>-0.142857</td>\n",
       "      <td>15</td>\n",
       "      <td>hbac</td>\n",
       "      <td>50</td>\n",
       "      <td>1</td>\n",
       "      <td>y</td>\n",
       "      <td>True</td>\n",
       "    </tr>\n",
       "    <tr>\n",
       "      <th>2</th>\n",
       "      <td>0</td>\n",
       "      <td>2</td>\n",
       "      <td>4.266701</td>\n",
       "      <td>0.083056</td>\n",
       "      <td>7</td>\n",
       "      <td>hbac</td>\n",
       "      <td>50</td>\n",
       "      <td>1</td>\n",
       "      <td>y</td>\n",
       "      <td>True</td>\n",
       "    </tr>\n",
       "    <tr>\n",
       "      <th>3</th>\n",
       "      <td>0</td>\n",
       "      <td>3</td>\n",
       "      <td>4.266701</td>\n",
       "      <td>0.083056</td>\n",
       "      <td>7</td>\n",
       "      <td>hbac</td>\n",
       "      <td>50</td>\n",
       "      <td>1</td>\n",
       "      <td>y</td>\n",
       "      <td>True</td>\n",
       "    </tr>\n",
       "    <tr>\n",
       "      <th>4</th>\n",
       "      <td>0</td>\n",
       "      <td>4</td>\n",
       "      <td>2.572252</td>\n",
       "      <td>0.189394</td>\n",
       "      <td>6</td>\n",
       "      <td>hbac</td>\n",
       "      <td>50</td>\n",
       "      <td>1</td>\n",
       "      <td>y</td>\n",
       "      <td>True</td>\n",
       "    </tr>\n",
       "  </tbody>\n",
       "</table>\n",
       "</div>"
      ],
      "text/plain": [
       "   iter  cluster_nr   p_clust  diff_clust  size_clust method   N  K  \\\n",
       "0     0           0  0.456115   -0.378788           6   hbac  50  1   \n",
       "1     0           1  2.214504   -0.142857          15   hbac  50  1   \n",
       "2     0           2  4.266701    0.083056           7   hbac  50  1   \n",
       "3     0           3  4.266701    0.083056           7   hbac  50  1   \n",
       "4     0           4  2.572252    0.189394           6   hbac  50  1   \n",
       "\n",
       "  target_col  bonf_correct  \n",
       "0          y          True  \n",
       "1          y          True  \n",
       "2          y          True  \n",
       "3          y          True  \n",
       "4          y          True  "
      ]
     },
     "execution_count": 15,
     "metadata": {},
     "output_type": "execute_result"
    }
   ],
   "source": [
    "# need `pyarrow` package to load parquet files\n",
    "df = pd.read_parquet('./results_clust.parquet.gzip')\n",
    "df.head()"
   ]
  },
  {
   "cell_type": "markdown",
   "metadata": {},
   "source": [
    "In total, the analysis was repeated 500 times ('iterations'):"
   ]
  },
  {
   "cell_type": "code",
   "execution_count": 16,
   "metadata": {},
   "outputs": [
    {
     "data": {
      "text/plain": [
       "(0, 499)"
      ]
     },
     "execution_count": 16,
     "metadata": {},
     "output_type": "execute_result"
    }
   ],
   "source": [
    "df['iter'].min(), df['iter'].max()"
   ]
  },
  {
   "cell_type": "markdown",
   "metadata": {},
   "source": [
    "To get insight into what factors mitigate or exacerbate the potential 'bias' in the method, I varied a couple of parameters in the experiment, such as the number of observations (`N`):"
   ]
  },
  {
   "cell_type": "code",
   "execution_count": 17,
   "metadata": {},
   "outputs": [
    {
     "data": {
      "text/plain": [
       "array([  50,  100,  500, 1000])"
      ]
     },
     "execution_count": 17,
     "metadata": {},
     "output_type": "execute_result"
    }
   ],
   "source": [
    "df['N'].unique()"
   ]
  },
  {
   "cell_type": "markdown",
   "metadata": {},
   "source": [
    "... and the number of features (`K`):"
   ]
  },
  {
   "cell_type": "code",
   "execution_count": 18,
   "metadata": {},
   "outputs": [
    {
     "data": {
      "text/plain": [
       "array([  1,   5,  10,  50, 100])"
      ]
     },
     "execution_count": 18,
     "metadata": {},
     "output_type": "execute_result"
    }
   ],
   "source": [
    "df['K'].unique()"
   ]
  },
  {
   "cell_type": "markdown",
   "metadata": {},
   "source": [
    "And importantly I ran the experiment for different target variables (`target_col`):"
   ]
  },
  {
   "cell_type": "code",
   "execution_count": 19,
   "metadata": {},
   "outputs": [
    {
     "data": {
      "text/plain": [
       "['y', 'y_pred', 'fp', 'fn', 'err', 'fp_prec', 'fn_rec']\n",
       "Categories (7, object): ['err', 'fn', 'fn_rec', 'fp', 'fp_prec', 'y', 'y_pred']"
      ]
     },
     "execution_count": 19,
     "metadata": {},
     "output_type": "execute_result"
    }
   ],
   "source": [
    "df['target_col'].unique()"
   ]
  },
  {
   "cell_type": "markdown",
   "metadata": {},
   "source": [
    "In technical terms, using `y_pred` boils down to _demographic parity_, `fp` to _predictive equality_, etc. etc. Importantly, I also added the complement of _precision_ (`fp_prec`) and _recall_ (`fn_rec`), as this doesn't group true positives and false negatives together (as `fp` does).\n",
    "\n",
    "Also, separate experiments are run with and without bonferroni correction to correct for the testing of multiple clusters (`bonf_correct`). To compare HBAC to truly random clusters, the experiment was also run on data where each observation was assigned one of five random cluster labels (literally just `np.random.choice(range(5), size=N)`):"
   ]
  },
  {
   "cell_type": "code",
   "execution_count": 20,
   "metadata": {},
   "outputs": [
    {
     "data": {
      "text/plain": [
       "['hbac', 'randomclusters']\n",
       "Categories (2, object): ['hbac', 'randomclusters']"
      ]
     },
     "execution_count": 20,
     "metadata": {},
     "output_type": "execute_result"
    }
   ],
   "source": [
    "df['method'].unique()"
   ]
  },
  {
   "cell_type": "markdown",
   "metadata": {},
   "source": [
    "Importantly, for each cluster (`cluster_nr`), the difference in the target variable between each cluster and the remaining clusters is computed (`diff_clust`) as well as the corresponding _p_-value (using a two-sample t-test, like in the Misztal-Radecka & Indurkhya paper)."
   ]
  },
  {
   "cell_type": "markdown",
   "metadata": {},
   "source": [
    "## Analysis\n",
    "\n",
    "To get an idea of what causes the magnitude in cluster differences, we can run a simple linear model with `diff_clust` as dependent variable:"
   ]
  },
  {
   "cell_type": "code",
   "execution_count": 21,
   "metadata": {},
   "outputs": [
    {
     "data": {
      "text/html": [
       "<table class=\"simpletable\">\n",
       "<caption>OLS Regression Results</caption>\n",
       "<tr>\n",
       "  <th>Dep. Variable:</th>       <td>diff_clust</td>    <th>  R-squared:         </th>  <td>   0.557</td> \n",
       "</tr>\n",
       "<tr>\n",
       "  <th>Model:</th>                   <td>OLS</td>       <th>  Adj. R-squared:    </th>  <td>   0.557</td> \n",
       "</tr>\n",
       "<tr>\n",
       "  <th>Method:</th>             <td>Least Squares</td>  <th>  F-statistic:       </th>  <td>6.567e+04</td>\n",
       "</tr>\n",
       "<tr>\n",
       "  <th>Date:</th>             <td>Mon, 23 Sep 2024</td> <th>  Prob (F-statistic):</th>   <td>  0.00</td>  \n",
       "</tr>\n",
       "<tr>\n",
       "  <th>Time:</th>                 <td>09:31:14</td>     <th>  Log-Likelihood:    </th> <td>3.1066e+05</td>\n",
       "</tr>\n",
       "<tr>\n",
       "  <th>No. Observations:</th>      <td>469410</td>      <th>  AIC:               </th> <td>-6.213e+05</td>\n",
       "</tr>\n",
       "<tr>\n",
       "  <th>Df Residuals:</th>          <td>469400</td>      <th>  BIC:               </th> <td>-6.212e+05</td>\n",
       "</tr>\n",
       "<tr>\n",
       "  <th>Df Model:</th>              <td>     9</td>      <th>                     </th>      <td> </td>    \n",
       "</tr>\n",
       "<tr>\n",
       "  <th>Covariance Type:</th>      <td>nonrobust</td>    <th>                     </th>      <td> </td>    \n",
       "</tr>\n",
       "</table>\n",
       "<table class=\"simpletable\">\n",
       "<tr>\n",
       "            <td></td>               <th>coef</th>     <th>std err</th>      <th>t</th>      <th>P>|t|</th>  <th>[0.025</th>    <th>0.975]</th>  \n",
       "</tr>\n",
       "<tr>\n",
       "  <th>Intercept</th>             <td>   -0.1404</td> <td>    0.001</td> <td> -248.040</td> <td> 0.000</td> <td>   -0.142</td> <td>   -0.139</td>\n",
       "</tr>\n",
       "<tr>\n",
       "  <th>target_col[T.fn]</th>      <td>    0.1256</td> <td>    0.001</td> <td>  194.371</td> <td> 0.000</td> <td>    0.124</td> <td>    0.127</td>\n",
       "</tr>\n",
       "<tr>\n",
       "  <th>target_col[T.fn_rec]</th>  <td>    0.0416</td> <td>    0.001</td> <td>   57.629</td> <td> 0.000</td> <td>    0.040</td> <td>    0.043</td>\n",
       "</tr>\n",
       "<tr>\n",
       "  <th>target_col[T.fp]</th>      <td>    0.1256</td> <td>    0.001</td> <td>  194.477</td> <td> 0.000</td> <td>    0.124</td> <td>    0.127</td>\n",
       "</tr>\n",
       "<tr>\n",
       "  <th>target_col[T.fp_prec]</th> <td>    0.0224</td> <td>    0.001</td> <td>   33.929</td> <td> 0.000</td> <td>    0.021</td> <td>    0.024</td>\n",
       "</tr>\n",
       "<tr>\n",
       "  <th>target_col[T.y]</th>       <td>   -0.0007</td> <td>    0.001</td> <td>   -1.179</td> <td> 0.239</td> <td>   -0.002</td> <td>    0.000</td>\n",
       "</tr>\n",
       "<tr>\n",
       "  <th>target_col[T.y_pred]</th>  <td>    0.0202</td> <td>    0.001</td> <td>   29.966</td> <td> 0.000</td> <td>    0.019</td> <td>    0.022</td>\n",
       "</tr>\n",
       "<tr>\n",
       "  <th>N</th>                     <td>-9.061e-05</td> <td> 5.06e-07</td> <td> -179.219</td> <td> 0.000</td> <td>-9.16e-05</td> <td>-8.96e-05</td>\n",
       "</tr>\n",
       "<tr>\n",
       "  <th>K</th>                     <td>   -0.0003</td> <td> 4.85e-06</td> <td>  -52.593</td> <td> 0.000</td> <td>   -0.000</td> <td>   -0.000</td>\n",
       "</tr>\n",
       "<tr>\n",
       "  <th>cluster_nr</th>            <td>    0.0491</td> <td> 6.86e-05</td> <td>  714.973</td> <td> 0.000</td> <td>    0.049</td> <td>    0.049</td>\n",
       "</tr>\n",
       "</table>\n",
       "<table class=\"simpletable\">\n",
       "<tr>\n",
       "  <th>Omnibus:</th>       <td>31074.056</td> <th>  Durbin-Watson:     </th>  <td>   1.492</td> \n",
       "</tr>\n",
       "<tr>\n",
       "  <th>Prob(Omnibus):</th>  <td> 0.000</td>   <th>  Jarque-Bera (JB):  </th> <td>120462.671</td>\n",
       "</tr>\n",
       "<tr>\n",
       "  <th>Skew:</th>           <td> 0.236</td>   <th>  Prob(JB):          </th>  <td>    0.00</td> \n",
       "</tr>\n",
       "<tr>\n",
       "  <th>Kurtosis:</th>       <td> 5.436</td>   <th>  Cond. No.          </th>  <td>4.55e+03</td> \n",
       "</tr>\n",
       "</table><br/><br/>Notes:<br/>[1] Standard Errors assume that the covariance matrix of the errors is correctly specified.<br/>[2] The condition number is large, 4.55e+03. This might indicate that there are<br/>strong multicollinearity or other numerical problems."
      ],
      "text/latex": [
       "\\begin{center}\n",
       "\\begin{tabular}{lclc}\n",
       "\\toprule\n",
       "\\textbf{Dep. Variable:}          &   diff\\_clust    & \\textbf{  R-squared:         } &     0.557   \\\\\n",
       "\\textbf{Model:}                  &       OLS        & \\textbf{  Adj. R-squared:    } &     0.557   \\\\\n",
       "\\textbf{Method:}                 &  Least Squares   & \\textbf{  F-statistic:       } & 6.567e+04   \\\\\n",
       "\\textbf{Date:}                   & Mon, 23 Sep 2024 & \\textbf{  Prob (F-statistic):} &     0.00    \\\\\n",
       "\\textbf{Time:}                   &     09:31:14     & \\textbf{  Log-Likelihood:    } & 3.1066e+05  \\\\\n",
       "\\textbf{No. Observations:}       &      469410      & \\textbf{  AIC:               } & -6.213e+05  \\\\\n",
       "\\textbf{Df Residuals:}           &      469400      & \\textbf{  BIC:               } & -6.212e+05  \\\\\n",
       "\\textbf{Df Model:}               &           9      & \\textbf{                     } &             \\\\\n",
       "\\textbf{Covariance Type:}        &    nonrobust     & \\textbf{                     } &             \\\\\n",
       "\\bottomrule\n",
       "\\end{tabular}\n",
       "\\begin{tabular}{lcccccc}\n",
       "                                 & \\textbf{coef} & \\textbf{std err} & \\textbf{t} & \\textbf{P$> |$t$|$} & \\textbf{[0.025} & \\textbf{0.975]}  \\\\\n",
       "\\midrule\n",
       "\\textbf{Intercept}               &      -0.1404  &        0.001     &  -248.040  &         0.000        &       -0.142    &       -0.139     \\\\\n",
       "\\textbf{target\\_col[T.fn]}       &       0.1256  &        0.001     &   194.371  &         0.000        &        0.124    &        0.127     \\\\\n",
       "\\textbf{target\\_col[T.fn\\_rec]}  &       0.0416  &        0.001     &    57.629  &         0.000        &        0.040    &        0.043     \\\\\n",
       "\\textbf{target\\_col[T.fp]}       &       0.1256  &        0.001     &   194.477  &         0.000        &        0.124    &        0.127     \\\\\n",
       "\\textbf{target\\_col[T.fp\\_prec]} &       0.0224  &        0.001     &    33.929  &         0.000        &        0.021    &        0.024     \\\\\n",
       "\\textbf{target\\_col[T.y]}        &      -0.0007  &        0.001     &    -1.179  &         0.239        &       -0.002    &        0.000     \\\\\n",
       "\\textbf{target\\_col[T.y\\_pred]}  &       0.0202  &        0.001     &    29.966  &         0.000        &        0.019    &        0.022     \\\\\n",
       "\\textbf{N}                       &   -9.061e-05  &     5.06e-07     &  -179.219  &         0.000        &    -9.16e-05    &    -8.96e-05     \\\\\n",
       "\\textbf{K}                       &      -0.0003  &     4.85e-06     &   -52.593  &         0.000        &       -0.000    &       -0.000     \\\\\n",
       "\\textbf{cluster\\_nr}             &       0.0491  &     6.86e-05     &   714.973  &         0.000        &        0.049    &        0.049     \\\\\n",
       "\\bottomrule\n",
       "\\end{tabular}\n",
       "\\begin{tabular}{lclc}\n",
       "\\textbf{Omnibus:}       & 31074.056 & \\textbf{  Durbin-Watson:     } &     1.492   \\\\\n",
       "\\textbf{Prob(Omnibus):} &    0.000  & \\textbf{  Jarque-Bera (JB):  } & 120462.671  \\\\\n",
       "\\textbf{Skew:}          &    0.236  & \\textbf{  Prob(JB):          } &      0.00   \\\\\n",
       "\\textbf{Kurtosis:}      &    5.436  & \\textbf{  Cond. No.          } &  4.55e+03   \\\\\n",
       "\\bottomrule\n",
       "\\end{tabular}\n",
       "%\\caption{OLS Regression Results}\n",
       "\\end{center}\n",
       "\n",
       "Notes: \\newline\n",
       " [1] Standard Errors assume that the covariance matrix of the errors is correctly specified. \\newline\n",
       " [2] The condition number is large, 4.55e+03. This might indicate that there are \\newline\n",
       " strong multicollinearity or other numerical problems."
      ],
      "text/plain": [
       "<class 'statsmodels.iolib.summary.Summary'>\n",
       "\"\"\"\n",
       "                            OLS Regression Results                            \n",
       "==============================================================================\n",
       "Dep. Variable:             diff_clust   R-squared:                       0.557\n",
       "Model:                            OLS   Adj. R-squared:                  0.557\n",
       "Method:                 Least Squares   F-statistic:                 6.567e+04\n",
       "Date:                Mon, 23 Sep 2024   Prob (F-statistic):               0.00\n",
       "Time:                        09:31:14   Log-Likelihood:             3.1066e+05\n",
       "No. Observations:              469410   AIC:                        -6.213e+05\n",
       "Df Residuals:                  469400   BIC:                        -6.212e+05\n",
       "Df Model:                           9                                         \n",
       "Covariance Type:            nonrobust                                         \n",
       "=========================================================================================\n",
       "                            coef    std err          t      P>|t|      [0.025      0.975]\n",
       "-----------------------------------------------------------------------------------------\n",
       "Intercept                -0.1404      0.001   -248.040      0.000      -0.142      -0.139\n",
       "target_col[T.fn]          0.1256      0.001    194.371      0.000       0.124       0.127\n",
       "target_col[T.fn_rec]      0.0416      0.001     57.629      0.000       0.040       0.043\n",
       "target_col[T.fp]          0.1256      0.001    194.477      0.000       0.124       0.127\n",
       "target_col[T.fp_prec]     0.0224      0.001     33.929      0.000       0.021       0.024\n",
       "target_col[T.y]          -0.0007      0.001     -1.179      0.239      -0.002       0.000\n",
       "target_col[T.y_pred]      0.0202      0.001     29.966      0.000       0.019       0.022\n",
       "N                     -9.061e-05   5.06e-07   -179.219      0.000   -9.16e-05   -8.96e-05\n",
       "K                        -0.0003   4.85e-06    -52.593      0.000      -0.000      -0.000\n",
       "cluster_nr                0.0491   6.86e-05    714.973      0.000       0.049       0.049\n",
       "==============================================================================\n",
       "Omnibus:                    31074.056   Durbin-Watson:                   1.492\n",
       "Prob(Omnibus):                  0.000   Jarque-Bera (JB):           120462.671\n",
       "Skew:                           0.236   Prob(JB):                         0.00\n",
       "Kurtosis:                       5.436   Cond. No.                     4.55e+03\n",
       "==============================================================================\n",
       "\n",
       "Notes:\n",
       "[1] Standard Errors assume that the covariance matrix of the errors is correctly specified.\n",
       "[2] The condition number is large, 4.55e+03. This might indicate that there are\n",
       "strong multicollinearity or other numerical problems.\n",
       "\"\"\""
      ]
     },
     "execution_count": 21,
     "metadata": {},
     "output_type": "execute_result"
    }
   ],
   "source": [
    "df_ = df.query(\"method == 'hbac' & ~bonf_correct\").copy()\n",
    "df_['target_col'] = df_['target_col'].astype(str)\n",
    "smf.ols('diff_clust ~ target_col + N + K + cluster_nr', data=df_).fit().summary()"
   ]
  },
  {
   "cell_type": "markdown",
   "metadata": {},
   "source": [
    "Seems like (in total) most of the variance is driven by the type of target variable used (`target_col`). Let's check this out:"
   ]
  },
  {
   "cell_type": "code",
   "execution_count": 22,
   "metadata": {},
   "outputs": [
    {
     "data": {
      "image/png": "[encoded data removed]",
      "text/plain": [
       "<Figure size 511.111x500 with 1 Axes>"
      ]
     },
     "metadata": {},
     "output_type": "display_data"
    }
   ],
   "source": [
    "g = sns.catplot(df_, x='target_col', y='diff_clust', kind='bar')"
   ]
  },
  {
   "cell_type": "markdown",
   "metadata": {},
   "source": [
    "As you can see, when false positives (`fp`) or false negatives (`fn`) are used as target variable, then the *average difference* (across clusters) between a cluster and the rest is larger than 11%! Note that this is averaged across clusters.\n",
    "\n",
    "The other major factor is 'cluster nr', so the order of the clusters found by the HBAC algorithm. Let's visualize the above plot but separately for each cluster:"
   ]
  },
  {
   "cell_type": "code",
   "execution_count": 23,
   "metadata": {},
   "outputs": [
    {
     "data": {
      "image/png": "[encoded data removed]",
      "text/plain": [
       "<Figure size 579.736x500 with 1 Axes>"
      ]
     },
     "metadata": {},
     "output_type": "display_data"
    }
   ],
   "source": [
    "g = sns.catplot(df_, x='target_col', y='diff_clust', hue='cluster_nr', kind='bar')"
   ]
  },
  {
   "cell_type": "markdown",
   "metadata": {},
   "source": [
    "This is pretty disconcerting: higher clusters display up to about a 40% difference in the target variable relative to the remaining clusters &mdash; in random data! This could, technically, be due to chance (although the error bars, reflecting the 95% CI, suggests otherwise). What we can do is to check the proportion of iterations with at least one significant cluster (at $\\alpha = 0.05$). At least, this would be the case for a single test, but because each cluster is tested, the p-values need to be adjusted (by multiplying them with the amount of tests performed per iteration). \n",
    "\n",
    "For an unbiased method, we'd expect this proportion (the method's _false positive rate_) to be 0.05, but this is not the case (also not for bonferroni-correct p-values):"
   ]
  },
  {
   "cell_type": "code",
   "execution_count": 24,
   "metadata": {},
   "outputs": [
    {
     "name": "stderr",
     "output_type": "stream",
     "text": [
      "/var/folders/45/rtxhngzn5cx3sjdxtnq5bk700000gp/T/ipykernel_78348/3225683359.py:4: FutureWarning: The default of observed=False is deprecated and will be changed to True in a future version of pandas. Pass observed=False to retain current behavior or observed=True to adopt the future default and silence this warning.\n",
      "  df_av = df_bonf.groupby(params).mean().reset_index()\n"
     ]
    },
    {
     "data": {
      "text/plain": [
       "Text(43.87154393325616, 0.5, 'False positive rate')"
      ]
     },
     "execution_count": 24,
     "metadata": {},
     "output_type": "execute_result"
    },
    {
     "data": {
      "image/png": "[encoded data removed]",
      "text/plain": [
       "<Figure size 597.986x500 with 1 Axes>"
      ]
     },
     "metadata": {},
     "output_type": "display_data"
    }
   ],
   "source": [
    "df_bonf = df.query(\"method == 'hbac'\").copy()\n",
    "df_bonf['sig_clust'] = ((df_bonf['p_clust'] < 0.05) & (df_bonf['diff_clust'] > 0)).astype(int)\n",
    "params = ['iter', 'N', 'K', 'target_col', 'method', 'bonf_correct']\n",
    "df_av = df_bonf.groupby(params).mean().reset_index()\n",
    "df_av['at_least_one'] = (df_av['sig_clust'] > 0).astype(int)\n",
    "g = sns.catplot(data=df_av, x='target_col', y='at_least_one', hue='bonf_correct', kind='bar')\n",
    "g.ax.axhline(0.05, ls='--', c='k')\n",
    "g.ax.set_ylabel(\"False positive rate\")"
   ]
  },
  {
   "cell_type": "markdown",
   "metadata": {},
   "source": [
    "For several metrics (like `fn`, `fp`, `y_pred`), the FPR is as high as 0.5, meaning that in 50% of the times HBAC is applied to random data, it will find at least one significant cluster. Just for good measure, when clusters are truly randomly generated, the expected FPR is actually approximately 0.05 (after bonferroni correction):"
   ]
  },
  {
   "cell_type": "code",
   "execution_count": 25,
   "metadata": {},
   "outputs": [
    {
     "name": "stderr",
     "output_type": "stream",
     "text": [
      "/var/folders/45/rtxhngzn5cx3sjdxtnq5bk700000gp/T/ipykernel_78348/1439770806.py:4: FutureWarning: The default of observed=False is deprecated and will be changed to True in a future version of pandas. Pass observed=False to retain current behavior or observed=True to adopt the future default and silence this warning.\n",
      "  df_bonf = df_bonf.groupby(params).mean().reset_index()\n"
     ]
    },
    {
     "data": {
      "text/plain": [
       "Text(43.87154393325616, 0.5, 'False positive rate')"
      ]
     },
     "execution_count": 25,
     "metadata": {},
     "output_type": "execute_result"
    },
    {
     "data": {
      "image/png": "[encoded data removed]",
      "text/plain": [
       "<Figure size 597.986x500 with 1 Axes>"
      ]
     },
     "metadata": {},
     "output_type": "display_data"
    }
   ],
   "source": [
    "df_bonf = df.query(\"method == 'randomclusters'\").copy()\n",
    "df_bonf['sig_clust'] = (df_bonf['p_clust'] < 0.05).astype(int)\n",
    "params = ['iter', 'N', 'K', 'target_col', 'method', 'bonf_correct']\n",
    "df_bonf = df_bonf.groupby(params).mean().reset_index()\n",
    "df_bonf['at_least_one'] = (df_bonf['sig_clust'] > 0).astype(int)\n",
    "g = sns.catplot(data=df_bonf, x='target_col', y='at_least_one', hue='bonf_correct', kind='bar', errorbar=None)\n",
    "g.ax.axhline(0.05, ls='--', c='k')\n",
    "g.ax.set_ylabel('False positive rate')"
   ]
  },
  {
   "cell_type": "markdown",
   "metadata": {},
   "source": [
    "As hinted at before when plotting the average differences per cluster, the largest differences and thus the largest proportion of significant results occur in the 'higher' cluster numbers:"
   ]
  },
  {
   "cell_type": "code",
   "execution_count": 26,
   "metadata": {},
   "outputs": [
    {
     "data": {
      "image/png": "[encoded data removed]",
      "text/plain": [
       "<Figure size 579.736x500 with 1 Axes>"
      ]
     },
     "metadata": {},
     "output_type": "display_data"
    }
   ],
   "source": [
    "# To be lenient, let's only consider differences > 0 (not < 0)\n",
    "df_['sig_clust'] = ((df_['p_clust'] < 0.05) & (df_['diff_clust'] > 0)).astype(int)\n",
    "g = sns.catplot(data=df_, x='target_col', y='sig_clust', hue='cluster_nr', kind='bar', errorbar=None)\n",
    "g.ax.axhline(0.05, ls='--', c='k')\n",
    "g.ax.set_ylabel('False positive rate');"
   ]
  },
  {
   "cell_type": "markdown",
   "metadata": {},
   "source": [
    "This kind of makes sense, as the method only allows to split into new clusters as the new clusters show bigger 'bias' than the original cluster (the line `max(score0, score1) >= score` in HBAC)."
   ]
  }
 ],
 "metadata": {
  "kernelspec": {
   "display_name": "algo-audit",
   "language": "python",
   "name": "python3"
  },
  "language_info": {
   "codemirror_mode": {
    "name": "ipython",
    "version": 3
   },
   "file_extension": ".py",
   "mimetype": "text/x-python",
   "name": "python",
   "nbconvert_exporter": "python",
   "pygments_lexer": "ipython3",
   "version": "3.11.9"
  }
 },
 "nbformat": 4,
 "nbformat_minor": 2
}
